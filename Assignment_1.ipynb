{
 "cells": [
  {
   "cell_type": "markdown",
   "metadata": {},
   "source": [
    "# Assignment 1\n",
    "\n",
    "#### Due Date: 24th Jan'18\n",
    "\n",
    "In this assignment we will cover the basics of Machine Learning. We will cover the following topics:\n",
    "\n",
    "1) Linear Regression\n",
    "\n",
    "2) Logistic Regression\n",
    "\n",
    "3) EM Algorithm\n",
    "\n",
    "4) K-means/Hirarchical Clustering.\n",
    "\n",
    "It is crucial to get down to the nitty gritty of the code to implement all of these. No external packages (like scipy), which directly give functions for these algorithms, are to be used. "
   ]
  },
  {
   "cell_type": "markdown",
   "metadata": {},
   "source": [
    "## Linear Regression\n",
    "\n",
    "Defination: Given a data set ${\\displaystyle \\{y_{i},\\,x_{i1},\\ldots ,x_{ip}\\}_{i=1}^{n}} $ of $n$ statistical units, a linear regression model assumes that the relationship between the dependent variable $y_i$ and the $p$-vector of regressors $x_i$ is linear. This relationship is modeled through a disturbance term or error variable $ε_i$ - an unobserved random variable that adds noise to the linear relationship between the dependent variable and regressors. Thus the model takes the form:\n",
    "\n",
    "$$ {\\displaystyle \\mathbf {y} =X{\\boldsymbol {\\beta }}+{\\boldsymbol {\\varepsilon }},\\,} $$\n",
    "\n",
    "where,\n",
    "\n",
    "$$ \\mathbf {y} ={\\begin{pmatrix}y_{1}\\\\y_{2}\\\\\\vdots \\\\y_{n}\\end{pmatrix}},\\quad $$\n",
    "\n",
    "$$ {\\displaystyle X={\\begin{pmatrix}\\mathbf {x} _{1}^{\\top }\\\\\\mathbf {x} _{2}^{\\top }\\\\\\vdots \\\\\\mathbf {x} _{n}^{\\top }\\end{pmatrix}}={\\begin{pmatrix}1&x_{11}&\\cdots &x_{1p}\\\\1&x_{21}&\\cdots &x_{2p}\\\\\\vdots &\\vdots &\\ddots &\\vdots \\\\1&x_{n1}&\\cdots &x_{np}\\end{pmatrix}},}\n",
    "$$\n",
    "\n",
    "$$ {\\displaystyle {\\boldsymbol {\\beta }}={\\begin{pmatrix}\\beta _{0}\\\\\\beta _{1}\\\\\\beta _{2}\\\\\\vdots \\\\\\beta _{p}\\end{pmatrix}},\\quad {\\boldsymbol {\\varepsilon }}={\\begin{pmatrix}\\varepsilon _{1}\\\\\\varepsilon _{2}\\\\\\vdots \\\\\\varepsilon _{n}\\end{pmatrix}}.} \n",
    "$$\n"
   ]
  },
  {
   "cell_type": "markdown",
   "metadata": {},
   "source": [
    "For this problem, in the class lecture we covered the Least Square Solution, which can be formulated as:\n",
    "\n",
    "$${\\displaystyle {\\hat {\\boldsymbol {\\beta }}}=(\\mathbf {X} ^{\\top }\\mathbf {X} )^{-1}\\mathbf {X} ^{\\top }\\mathbf {y} =\\left(\\sum \\mathbf {x} _{i}\\mathbf {x} _{i}^{\\top }\\right)^{-1}\\left(\\sum \\mathbf {x} _{i}y_{i}\\right).} $$"
   ]
  },
  {
   "cell_type": "markdown",
   "metadata": {},
   "source": [
    "## Question 1\n",
    "\n",
    "a) You will write the code to find the LSS for the given data. The data contains 3 columns, each for $y, X_{1}$, and $X_{2}$ respectively. Few of the possible models are:\n",
    "\n",
    "$$ {\\displaystyle \\mathbf {y} ={\\boldsymbol {\\beta_{1} }}X_1+{\\boldsymbol {\\beta_{0} }}+{\\boldsymbol {\\varepsilon }},\\,} $$\n",
    "\n",
    "\n",
    "$$ {\\displaystyle \\mathbf {y} ={\\boldsymbol {\\beta_{2} }}X_2+{\\boldsymbol {\\beta_{0} }}+{\\boldsymbol {\\varepsilon }},\\,} $$\n",
    "\n",
    "\n",
    "$$ {\\displaystyle \\mathbf {y} ={\\boldsymbol {\\beta_{1} }}X_1+ {\\boldsymbol {\\beta_{2} }}X_2+{\\boldsymbol {\\beta_{0} }}+{\\boldsymbol {\\varepsilon }},\\,} $$\n",
    "\n",
    "Given this data, find the coefficients for each of these models.\n",
    "\n",
    "b) Now that you have three models, you must select the best one. Use Cross-validation with 5 folds on the dataset to find the optimal model (On the basis of RMSE on the test partition). "
   ]
  },
  {
   "cell_type": "code",
   "execution_count": 764,
   "metadata": {
    "collapsed": true
   },
   "outputs": [],
   "source": [
    "import numpy as np\n",
    "# Load the dataset \n",
    "train_data = np.load('utils/assign_1_data_1_train.npy')\n",
    "# now write the code for finding the solution for each of the three models."
   ]
  },
  {
   "cell_type": "code",
   "execution_count": 766,
   "metadata": {},
   "outputs": [
    {
     "name": "stdout",
     "output_type": "stream",
     "text": [
      "For Model 1, the beta_zero = 82.5593533877 and beta_one = -208.390959467\n",
      "For Model 2, the beta_zero = -2694.47627382 and beta_two = 4.85238330526\n",
      "For Model 3, the beta_zero = -947.957407963, beta_one = -206.473377761, beta_two = 3.04933430923\n"
     ]
    }
   ],
   "source": [
    "# Finally, Write The estimates of the betas here:\n",
    "def singlevaribaleregression(data, column):\n",
    "    sx=0 ; sy=0 ; sxx=0 ; syy=0 ; sxy=0;\n",
    "    n = len(data)\n",
    "    for i in range(n):\n",
    "        sx = sx + data[i,column]\n",
    "        sy = sy + data[i, 0]\n",
    "        sxx = sxx + data[i,column] * data[i,column]\n",
    "        syy = syy + data[i,0] * data[i,0]\n",
    "        sxy = sxy + data[i,column] * data[i,0]\n",
    "    beta_one = (n*sxy - sx*sy)/(n*sxx - sx*sx)\n",
    "    beta_zero = (sy-beta_one*sx)/n\n",
    "    return(beta_zero, beta_one)\n",
    "\n",
    "def multivariableregression(train_data):\n",
    "    input_vector = np.delete(train_data,0,1)\n",
    "    X_vector = np.insert(input_vector, 0, 1, axis=1)\n",
    "    Y = train_data[:,0]\n",
    "    X_transpose_Y = np.dot(X_vector.T, Y)\n",
    "    X_transpose_X = np.dot(X_vector.T, X_vector)\n",
    "    betas = np.dot(np.linalg.inv(X_transpose_X),X_transpose_Y)\n",
    "    return betas\n",
    "\n",
    "# Model 1\n",
    "[beta_zero, beta_one] = singlevaribaleregression(train_data,1)\n",
    "print \"For Model 1, the beta_zero = \" + str(beta_zero)+\" and beta_one = \"+ str(beta_one)\n",
    "\n",
    "# Model 2\n",
    "[beta_zero, beta_two] = singlevaribaleregression(train_data,2)\n",
    "print \"For Model 2, the beta_zero = \" + str(beta_zero)+\" and beta_two = \"+ str(beta_two)\n",
    "\n",
    "# Model 3\n",
    "betas = multivariableregression(train_data)\n",
    "print \"For Model 3, the beta_zero = \" + str(betas[0])+\", beta_one = \"+ str(betas[1])+\", beta_two = \"+str(betas[2])"
   ]
  },
  {
   "cell_type": "code",
   "execution_count": 767,
   "metadata": {},
   "outputs": [
    {
     "name": "stdout",
     "output_type": "stream",
     "text": [
      "Taking fold 1 as test data and remaining folds as training data\n",
      "For Model 1, the beta_zero = 38.9183787319 and beta_one = -206.312390812\n",
      "The RMSE value on test fold for Model 1 is 1308.41803031\n",
      "For Model 2, the beta_zero = -3053.53548499 and beta_two = -206.312390812\n",
      "The RMSE value on test fold for Model 2 is 2217.02144416\n",
      "For Model 3, the beta_zero = -1076.48547355, beta_one = -203.630741565, beta_two = 3.27930215907\n",
      "The RMSE value on test fold for Model 3 is 1881.98863797\n",
      "\n",
      "Taking fold 2 as test data and remaining folds as training data\n",
      "For Model 1, the beta_zero = 48.7214540625 and beta_one = -202.95318396\n",
      "The RMSE value on test fold for Model 1 is 1453.07300898\n",
      "For Model 2, the beta_zero = -2385.44853369 and beta_two = -202.95318396\n",
      "The RMSE value on test fold for Model 2 is 2374.66360634\n",
      "For Model 3, the beta_zero = -899.210195237, beta_one = -201.773804598, beta_two = 2.83003957084\n",
      "The RMSE value on test fold for Model 3 is 1799.14831366\n",
      "\n",
      "Taking fold 3 as test data and remaining folds as training data\n",
      "For Model 1, the beta_zero = 128.780608677 and beta_one = -203.297960809\n",
      "The RMSE value on test fold for Model 1 is 1400.64544389\n",
      "For Model 2, the beta_zero = -2310.22620035 and beta_two = -203.297960809\n",
      "The RMSE value on test fold for Model 2 is 2448.26947587\n",
      "For Model 3, the beta_zero = -850.274899024, beta_one = -202.001214403, beta_two = 2.89793736152\n",
      "The RMSE value on test fold for Model 3 is 1508.43209651\n",
      "\n",
      "Taking fold 4 as test data and remaining folds as training data\n",
      "For Model 1, the beta_zero = 107.142913266 and beta_one = -211.634857887\n",
      "The RMSE value on test fold for Model 1 is 1414.50567672\n",
      "For Model 2, the beta_zero = -2673.2967713 and beta_two = -211.634857887\n",
      "The RMSE value on test fold for Model 2 is 2134.63427901\n",
      "For Model 3, the beta_zero = -795.774572543, beta_one = -209.84588727, beta_two = 2.65678560482\n",
      "The RMSE value on test fold for Model 3 is 1834.61730944\n",
      "\n",
      "Taking fold 5 as test data and remaining folds as training data\n",
      "For Model 1, the beta_zero = 87.4951319648 and beta_one = -216.999435521\n",
      "The RMSE value on test fold for Model 1 is 1532.56918642\n",
      "For Model 2, the beta_zero = -3058.2531045 and beta_two = -216.999435521\n",
      "The RMSE value on test fold for Model 2 is 2046.6317513\n",
      "For Model 3, the beta_zero = -1099.99255434, beta_one = -214.268049274, beta_two = 3.52402028928\n",
      "The RMSE value on test fold for Model 3 is 2082.13879313\n",
      "\n",
      "The average RMSE for model1 = 1421.84226927\n",
      "The average RMSE for model2 = 2244.24411134\n",
      "The average RMSE for model3 = 1821.26503014\n",
      "\n",
      "Model1 is best\n"
     ]
    }
   ],
   "source": [
    "# partition the dataset into 5 random folds.\n",
    "items = list(train_data)\n",
    "np.random.seed(np.random.randint(0, 10))\n",
    "np.random.shuffle(items)\n",
    "k=5\n",
    "folds = [items[i::k] for i in xrange(k)]\n",
    "folds = np.array(folds)\n",
    "\n",
    "# for each fold, approx. model from the remaining folds, and calculate RMSE on the test fold.\n",
    "rmse_model1 = np.zeros(5)\n",
    "rmse_model2 = np.zeros(5)\n",
    "rmse_model3 = np.zeros(5)\n",
    "def approxModelCalculateRMSE(test_fold,train_fold):\n",
    "    truevalues = test_fold[:,0]\n",
    "    [beta_zero, beta_one] = singlevaribaleregression(train_fold,1)\n",
    "    print \"For Model 1, the beta_zero = \" + str(beta_zero)+\" and beta_one = \"+ str(beta_one)\n",
    "    X = test_fold[:,1]\n",
    "    predicted = beta_one*X + beta_zero\n",
    "    rmse_model1 =np.sqrt(np.mean(np.square(truevalues-predicted)))\n",
    "    print \"The RMSE value on test fold for Model 1 is \"+ str(rmse_model1)\n",
    "\n",
    "    [beta_zero, beta_two] = singlevaribaleregression(train_fold,2)\n",
    "    print \"For Model 2, the beta_zero = \" + str(beta_zero)+\" and beta_two = \"+ str(beta_one)\n",
    "    X = test_fold[:,2]\n",
    "    predicted = beta_two*X + beta_zero\n",
    "    rmse_model2 =np.sqrt(np.mean(np.square(truevalues-predicted)))\n",
    "    print \"The RMSE value on test fold for Model 2 is \"+ str(rmse_model2)\n",
    "\n",
    "    betas = multivariableregression(train_fold)\n",
    "    print \"For Model 3, the beta_zero = \" + str(betas[0])+\", beta_one = \"+ str(betas[1])+\", beta_two = \"+str(betas[2])\n",
    "    X = np.delete(test_fold,0,1)\n",
    "    predicted = beta_one*X[:,0] + beta_two*X[:,1] + beta_zero\n",
    "    rmse_model3 =np.sqrt(np.mean(np.square(truevalues-predicted)))\n",
    "    print \"The RMSE value on test fold for Model 3 is \"+ str(rmse_model3)\n",
    "    return(rmse_model1, rmse_model2, rmse_model3)\n",
    "\n",
    "print \"Taking fold 1 as test data and remaining folds as training data\"\n",
    "test_fold = folds[0]\n",
    "train_fold = np.concatenate((folds[1:5]), axis=0)\n",
    "[rmse_model1[0], rmse_model2[0], rmse_model3[0]] = approxModelCalculateRMSE(test_fold,train_fold)\n",
    "\n",
    "print \"\\nTaking fold 2 as test data and remaining folds as training data\"\n",
    "test_fold = folds[1]\n",
    "train_fold = np.concatenate((folds[0],folds[2],folds[3],folds[4]), axis=0)\n",
    "[rmse_model1[1], rmse_model2[1], rmse_model3[1]] = approxModelCalculateRMSE(test_fold,train_fold)\n",
    "\n",
    "print \"\\nTaking fold 3 as test data and remaining folds as training data\"\n",
    "test_fold = folds[2]\n",
    "train_fold = np.concatenate((folds[0],folds[1],folds[3],folds[4]), axis=0)\n",
    "[rmse_model1[2], rmse_model2[2], rmse_model3[2]] = approxModelCalculateRMSE(test_fold,train_fold)\n",
    "\n",
    "print \"\\nTaking fold 4 as test data and remaining folds as training data\"\n",
    "test_fold = folds[3]\n",
    "train_fold = np.concatenate((folds[0],folds[1],folds[2],folds[4]), axis=0)\n",
    "[rmse_model1[3], rmse_model2[3], rmse_model3[3]] = approxModelCalculateRMSE(test_fold,train_fold)\n",
    "\n",
    "print \"\\nTaking fold 5 as test data and remaining folds as training data\"\n",
    "test_fold = folds[4]\n",
    "train_fold = np.concatenate((folds[0],folds[1],folds[2],folds[3]), axis=0)\n",
    "[rmse_model1[4], rmse_model2[4], rmse_model3[4]] = approxModelCalculateRMSE(test_fold,train_fold)\n",
    "\n",
    "# find avg RMSE for each model. \n",
    "print \"\\nThe average RMSE for model1 = \"+ str(np.average(rmse_model1))\n",
    "print \"The average RMSE for model2 = \"+ str(np.average(rmse_model2))\n",
    "print \"The average RMSE for model3 = \"+ str(np.average(rmse_model3))\n",
    "# Which is the best model?\n",
    "print \"\\nModel1 is best\""
   ]
  },
  {
   "cell_type": "code",
   "execution_count": 768,
   "metadata": {},
   "outputs": [
    {
     "name": "stdout",
     "output_type": "stream",
     "text": [
      "Using Model 1 as best model\n",
      "The beta_zero = 82.5593533877 and beta_one = -208.390959467\n",
      "The RMSE value on test fold for Model 1 is 1548.49308168\n",
      "The R square score is 0.608021925416\n"
     ]
    }
   ],
   "source": [
    "# Finally, Give the R^2 score of the best model in the test set:\n",
    "test_data = np.load('utils/assign_1_data_1_test.npy')\n",
    "truevalues = test_data[:,0]\n",
    "print \"Using Model 1 as best model\"\n",
    "[beta_zero, beta_one] = singlevaribaleregression(train_data,1)\n",
    "print \"The beta_zero = \" + str(beta_zero)+\" and beta_one = \"+ str(beta_one)\n",
    "X = test_data[:,1]\n",
    "predicted = beta_one*X + beta_zero\n",
    "rmse_model1 =np.sqrt(np.mean(np.square(truevalues-predicted)))\n",
    "print \"The RMSE value on test fold for Model 1 is \"+ str(rmse_model1)\n",
    "SSE = np.sum(np.square(truevalues-predicted))\n",
    "SSTO = np.sum(np.square(truevalues-np.mean(truevalues)))\n",
    "SSR = np.sum(np.square(predicted-np.mean(truevalues)))\n",
    "print \"The R square score is \"+str(SSR/SSTO)"
   ]
  },
  {
   "cell_type": "code",
   "execution_count": 771,
   "metadata": {},
   "outputs": [
    {
     "data": {
      "image/png": "[encoded data removed]",
      "text/plain": [
       "<matplotlib.figure.Figure at 0x7fe1ec3c27d0>"
      ]
     },
     "metadata": {},
     "output_type": "display_data"
    },
    {
     "data": {
      "image/png": "[encoded data removed]",
      "text/plain": [
       "<matplotlib.figure.Figure at 0x7fe1edd0f290>"
      ]
     },
     "metadata": {},
     "output_type": "display_data"
    },
    {
     "name": "stdout",
     "output_type": "stream",
     "text": [
      "The model should be a quadratic model\n"
     ]
    }
   ],
   "source": [
    "# Bonus\n",
    "# Show a graph between the predicted Y^ and the Ground truth Y\n",
    "from matplotlib import pyplot as plt\n",
    "plt.scatter(predicted, truevalues)\n",
    "plt.xlabel(\"Predicted Values\")\n",
    "plt.ylabel(\"Ground truth\")\n",
    "plt.show()\n",
    "# Try to plot Y vs X_1 in train set.\n",
    "plt.scatter(train_data[:,1],train_data[:,0])\n",
    "plt.xlabel(\"Training Data X_1\")\n",
    "plt.ylabel(\"Ground Truth Y\")\n",
    "plt.show()\n",
    "# can it help you improve your model?\n",
    "print \"The model should be a quadratic model\"\n",
    "# construct the better model."
   ]
  },
  {
   "cell_type": "markdown",
   "metadata": {},
   "source": [
    "# Logistic Regression\n",
    "\n",
    "Generaly, Logistic Regression is used to predict categorial variables. For the simple problem of 2-way classification, the output $\\hat{y_i}$ is modeled as the probability that $\\{X_i\\}$ belongs to class $1$ (given two classes $0$, and $1$).\n",
    "\n",
    "$$ P( \\{X_i\\} \\in Set_1 ) = \\hat{y_i}, $$ ( $y_i$ is the actual label; $y_i \\in \\{ 0,1 \\}$ )\n",
    "\n",
    "\n",
    "$\\hat{y_i}$ is typically modeled as the output of a sigmoid on a linear combination of the input feature $\\{X_i\\}$:\n",
    "\n",
    "$$ \\mathbf {\\hat{y}} = \\sigma(X{\\boldsymbol {\\beta }}+{\\boldsymbol {\\varepsilon }}) = \\sigma_\\beta(X)$$"
   ]
  },
  {
   "cell_type": "markdown",
   "metadata": {},
   "source": [
    "Now, The likelihood of some given data for this model can be written as:\n",
    "\n",
    "$${\\displaystyle {\\begin{aligned}L(\\beta |x)&=Pr(Y|X;\\beta )\\\\&=\\prod _{i}Pr(y_{i}|x_{i};\\beta )\\\\&=\\prod _{i}\\sigma_{\\beta }(x_{i})^{y_{i}}(1-\\sigma_{\\beta }(x_{i}))^{(1-y_{i})}\\end{aligned}}}$$"
   ]
  },
  {
   "cell_type": "markdown",
   "metadata": {},
   "source": [
    "Unlike in the case of Linear regression, this equation has no closed form solution. Hence we will use gradient descent on the negative log-likelihood $J(\\beta)$ to find the optimal $\\beta$\n",
    "\n",
    "$$\n",
    "J(\\beta) = \\sum_i{\\big( y_ilog(\\hat{y_i})+ (1-y_i)log(1-\\hat{y_i}) \\big) }\n",
    "$$\n",
    "\n",
    "with the update equation:\n",
    "\n",
    "$$\n",
    "\\beta_j = \\beta_j + \\alpha \\times \\frac{ \\partial J(\\beta)}{\\partial \\beta}\n",
    "$$"
   ]
  },
  {
   "cell_type": "markdown",
   "metadata": {},
   "source": [
    "## Question 2\n",
    "\n",
    "a) You will write the code to find the optimal logistic regression model for the given data. The data contains 3 columns, each for $y, X_{1}$, and $X_{2}$ respectively. For the rate of learning $\\alpha$ use a linearly decaying policy, or step-wise reduction policy. \n",
    "\n",
    "$$ {\\displaystyle \\mathbf {y} =\\sigma \\big( {\\boldsymbol {\\beta_{1} }}X_1+ {\\boldsymbol {\\beta_{2} }}X_2+{\\boldsymbol {\\beta_{0} }}+{\\boldsymbol {\\varepsilon }}} \\big) $$\n",
    "\n",
    "b) Explore possible methods of adjusting the learning rate $\\alpha$ "
   ]
  },
  {
   "cell_type": "code",
   "execution_count": 776,
   "metadata": {
    "collapsed": true
   },
   "outputs": [],
   "source": [
    "# Load the train dataset \n",
    "train_data = np.load('utils/assign_1_data_2_train.npy')\n",
    "count_training_data = int(0.80 * len(train_data))\n",
    "training_data = train_data[0:count_training_data]\n",
    "validation_data = train_data[count_training_data:len(train_data)]\n",
    "# now write the code to find the parameters of the optimization.\n",
    "\n",
    "def sigmoid(z):\n",
    "  return 1.0 / (1 + np.exp(-z))\n",
    "\n",
    "def predict(features, weights):\n",
    "  z = np.dot(features, weights)\n",
    "  return sigmoid(z)\n",
    "\n",
    "def decision_boundary(prob):\n",
    "  return 1 if prob >= .5 else 0\n",
    "\n",
    "def classify(preds):\n",
    "  decision = np.vectorize(decision_boundary)\n",
    "  return decision(preds).flatten()\n",
    "\n",
    "def update_weights(features, labels, weights, lr):\n",
    "    N = len(features)\n",
    "    #Get Predictions\n",
    "    predictions = predict(features, weights)\n",
    "    gradient = np.dot(features.T,  predictions - labels)\n",
    "    #3 Take the average cost derivative for each feature\n",
    "    gradient /= N\n",
    "    gradient *= lr\n",
    "    weights -= gradient\n",
    "    return weights\n",
    "\n",
    "def cost_function(features, labels, weights):\n",
    "    observations = len(labels)\n",
    "    predictions = predict(features, weights)\n",
    "    #Take the error when label=1\n",
    "    class1_cost = -labels*np.log(predictions)\n",
    "    #Take the error when label=0\n",
    "    class2_cost = (1-labels)*np.log(1-predictions)\n",
    "    #Take the sum of both costs\n",
    "    cost = class1_cost - class2_cost\n",
    "    #Take the average cost\n",
    "    cost = cost.sum()/observations\n",
    "    return cost\n",
    "\n",
    "def train(train_features, train_labels, validation_features, validation_labels, weights, lr, iters):\n",
    "    training_cost_history = []\n",
    "    validation_cost_history = []\n",
    "    \n",
    "    for i in range(iters):\n",
    "        weights = update_weights(train_features, train_labels, weights, lr)\n",
    "        lr = lr * ((0.0001 * i + 1) ** -0.75)\n",
    "        #Calculate error\n",
    "        cost1 = cost_function(train_features, train_labels, weights)\n",
    "        training_cost_history.append(cost1)\n",
    "        cost2 = cost_function(validation_features, validation_labels, weights)\n",
    "        validation_cost_history.append(cost2)\n",
    "\n",
    "        # Log Progress\n",
    "        if i % 100 == 0:\n",
    "            print \"iter: \"+str(i) + \" training cost: \"+str(cost1)+\" validation cost: \"+str(cost2)\n",
    "    return weights, cost_history\n",
    "\n",
    "beta1 = 0.3\n",
    "beta2 = 0.2\n",
    "beta0 = 0.4\n",
    "weights = np.array([\n",
    "    [beta0],\n",
    "    [beta1],\n",
    "    [beta2]\n",
    "])\n",
    "train_features = np.delete(training_data,0,1)\n",
    "train_labels = training_data[:,0].reshape(len(training_data),1)\n",
    "bias = np.ones(shape=(len(train_features),1))\n",
    "train_features = np.append(bias, train_features, axis=1)\n",
    "\n",
    "validation_labels = validation_data[:,0].reshape(len(validation_data),1) #checking on validation\n",
    "validation_features = np.delete(validation_data,0,1)\n",
    "bias = np.ones(shape=(len(validation_features),1))\n",
    "validation_features = np.append(bias, validation_features, axis=1)"
   ]
  },
  {
   "cell_type": "code",
   "execution_count": 780,
   "metadata": {},
   "outputs": [
    {
     "name": "stdout",
     "output_type": "stream",
     "text": [
      "iter: 0 training cost: 0.222894772695 validation cost: 0.204037011109\n",
      "iter: 100 training cost: 0.215424905977 validation cost: 0.196989232038\n",
      "iter: 200 training cost: 0.212079167655 validation cost: 0.193799053356\n",
      "iter: 300 training cost: 0.211286249803 validation cost: 0.193039787459\n",
      "iter: 400 training cost: 0.211189484652 validation cost: 0.192947043068\n",
      "iter: 500 training cost: 0.211183538437 validation cost: 0.192941343316\n",
      "iter: 600 training cost: 0.21118335545 validation cost: 0.192941167912\n",
      "iter: 700 training cost: 0.211183352627 validation cost: 0.192941165206\n",
      "iter: 800 training cost: 0.211183352605 validation cost: 0.192941165185\n",
      "iter: 900 training cost: 0.211183352605 validation cost: 0.192941165185\n",
      "iter: 1000 training cost: 0.211183352605 validation cost: 0.192941165185\n",
      "iter: 1100 training cost: 0.211183352605 validation cost: 0.192941165185\n",
      "iter: 1200 training cost: 0.211183352605 validation cost: 0.192941165185\n",
      "The training cost and validation cost remains constant after 900 iteration, so setting 't' = 900\n"
     ]
    }
   ],
   "source": [
    "# test on a validation part every 't' iterations to find when you start overfitting.\n",
    "# t = ?\n",
    "iters = 1201\n",
    "lr = 0.02\n",
    "[weights, cost_history] = train(train_features, train_labels, validation_features, validation_labels, weights, lr, iters)\n",
    "plt.plot()\n",
    "print \"The training cost and validation cost remains constant after 900 iteration, so setting 't' = 900\"\n",
    "# Now for 't' iterations train on the entire dataset for testing on the test_data\n",
    "\n",
    "def fulltrain(features, labels, weights, lr, iters):\n",
    "    cost_history = []\n",
    "    \n",
    "    for i in range(iters):\n",
    "        weights = update_weights(features, labels, weights, lr)\n",
    "        lr = lr * ((0.0001 * i + 1) ** -0.75)\n",
    "        #Calculate error\n",
    "        cost1 = cost_function(features, labels, weights)\n",
    "        cost_history.append(cost1)\n",
    "    return weights, cost_history\n",
    "\n",
    "train_features = np.delete(train_data,0,1)\n",
    "train_labels = train_data[:,0].reshape(len(train_data),1)\n",
    "bias = np.ones(shape=(len(train_features),1))\n",
    "train_features = np.append(bias, train_features, axis=1)\n",
    "[weights, cost_history] = fulltrain(train_features, train_labels, weights, lr, 900)\n",
    "\n"
   ]
  },
  {
   "cell_type": "code",
   "execution_count": 781,
   "metadata": {},
   "outputs": [
    {
     "name": "stdout",
     "output_type": "stream",
     "text": [
      "The accuracy obatined on test data is 0.833333333333\n"
     ]
    }
   ],
   "source": [
    "# find the accuracy on the test set:\n",
    "test_data = np.load('utils/assign_1_data_2_test.npy')\n",
    "def accuracy(predicted_labels, actual_labels):\n",
    "    diff = predicted_labels - actual_labels\n",
    "    return 1.0 - (float(np.count_nonzero(diff)) / len(diff))\n",
    "\n",
    "actual_labels = test_data[:,0]\n",
    "features = np.delete(test_data,0,1)\n",
    "bias = np.ones(shape=(len(features),1))\n",
    "features = np.append(bias, features, axis=1)\n",
    "predicted_labels = classify(predict(features, weights))\n",
    "print \"The accuracy obatined on test data is \"+str(accuracy(predicted_labels,actual_labels))\n"
   ]
  },
  {
   "cell_type": "code",
   "execution_count": 412,
   "metadata": {},
   "outputs": [
    {
     "name": "stdout",
     "output_type": "stream",
     "text": [
      "The learning rate alpha is adjusted as :\n",
      "alpha = alpha * ((0.0001 * i + 1) ** -0.75) \n",
      "where 'i' denotes the iteration number\n"
     ]
    }
   ],
   "source": [
    "# Bonus\n",
    "# Can you adjust the learning rate alpha in a better way?\n",
    "print \"The learning rate alpha is adjusted as :\\nalpha = alpha * ((0.0001 * i + 1) ** -0.75) \\nwhere 'i' denotes the iteration number\""
   ]
  },
  {
   "cell_type": "markdown",
   "metadata": {},
   "source": [
    "# EM algorithm\n",
    "\n",
    "This is a general framework for likelihood-based parameter estimation.\n",
    "A basic outline of this algorithm is:\n",
    "\n",
    "* start with initial guesses of parameters\n",
    "\n",
    "* E step: estimate memberships given params\n",
    "\n",
    "* M step: estimate params given memberships\n",
    "\n",
    "* Repeat until convergence\n",
    "\n",
    "** Refer to [this link](http://www.rmki.kfki.hu/~banmi/elte/bishop_em.pdf) (9.2.2) .**\n"
   ]
  },
  {
   "cell_type": "markdown",
   "metadata": {},
   "source": [
    "## Question 3\n",
    "\n",
    "Let ${\\displaystyle \\mathbf {x} =(\\mathbf {x} _{1},\\mathbf {x} _{2},\\ldots ,\\mathbf {x} _{n})} $ be a sample of $n$ independent observations from a mixture of two multivariate normal distributions of dimension $d$ , and let ${\\displaystyle \\mathbf {z} =(z_{1},z_{2},\\ldots ,z_{n})} $ be the latent variables that determine the component from which the observation originates.\n",
    "\n",
    "$X_i |(Z_i = 1) \\sim \\mathcal{N}_d(\\boldsymbol{\\mu}_1,\\Sigma_1)$ and $X_i |(Z_i = 2) \\sim \\mathcal{N}_d(\\boldsymbol{\\mu}_2,\\Sigma_2)$\n",
    "\n",
    "The aim is to estimate the unknown parameters representing the mixing value between the Gaussians and the means and covariances of each:\n",
    "\n",
    "$$ \\theta = \\big( \\boldsymbol{\\tau},\\boldsymbol{\\mu}_1,\\boldsymbol{\\mu}_2,\\Sigma_1,\\Sigma_2 \\big) $$\n",
    "\n",
    "a) Given the data, find the parameters $\\theta$ using EM algorithm.\n",
    "\n"
   ]
  },
  {
   "cell_type": "code",
   "execution_count": 680,
   "metadata": {},
   "outputs": [
    {
     "name": "stdout",
     "output_type": "stream",
     "text": [
      "EM iteration : 0\n",
      "EM iteration : 1\n",
      "EM iteration : 2\n",
      "EM iteration : 3\n",
      "EM iteration : 4\n",
      "EM iteration : 5\n",
      "EM iteration : 6\n",
      "EM iteration : 7\n",
      "EM iteration : 8\n",
      "EM iteration : 9\n"
     ]
    },
    {
     "data": {
      "image/png": "[encoded data removed]",
      "text/plain": [
       "<matplotlib.figure.Figure at 0x7fe1ed0c7710>"
      ]
     },
     "metadata": {},
     "output_type": "display_data"
    }
   ],
   "source": [
    "# Load the train dataset \n",
    "data = np.load('utils/assign_1_data_3.npy')\n",
    "# The data is a 1000*2 numpy array, where each row is a independent observation, and \n",
    "# the columns are measurement in dimension x and y respectively. \n",
    "# now write the code to find the parameter theta.\n",
    "def initialize_centroids(points, k):\n",
    "    centroids = points.copy()\n",
    "    np.random.seed(np.random.randint(0, 10))\n",
    "    np.random.shuffle(centroids)\n",
    "    return centroids[:k]\n",
    "\n",
    "def closest_centroid(points, centroids):\n",
    "    distances = np.sqrt(((points - centroids[:, np.newaxis])**2).sum(axis=2))\n",
    "    return np.argmin(distances, axis=0)\n",
    "\n",
    "def move_centroids(points, closest, centroids):\n",
    "    return np.array([points[closest==k].mean(axis=0) for k in range(centroids.shape[0])])\n",
    "\n",
    "\n",
    "def k_meansalgo(data, k):\n",
    "    centroids = initialize_centroids(data, k)\n",
    "    i=1\n",
    "    while(i<=20):\n",
    "        closest = closest_centroid(data, centroids)\n",
    "        newcentroids = move_centroids(data, closest, centroids)\n",
    "        centroids = newcentroids\n",
    "        i = i+1\n",
    "    return newcentroids, closest\n",
    "\n",
    "def GMM_model_built(data):\n",
    "    k=2\n",
    "    centroids, classlabel = k_meansalgo(data, k)\n",
    "    covariance, alpha = covariance_calculate(data,centroids,classlabel)\n",
    "    # calculating log likelihood value\n",
    "    loglikelyvalues = []\n",
    "    loglikelyvalues.append(loglikelihood(data, centroids, covariance, alpha, k))\n",
    "    # p(l/xi)\n",
    "    # probablity that data belongs to cluster 1\n",
    "    for i in range(10):\n",
    "        print \"EM iteration : \" + str(i)\n",
    "        # Estep\n",
    "        prob_Data_belong_Cluster = Estep(data, centroids, covariance,alpha, k)\n",
    "        prob_Data_belong_Cluster = prob_Data_belong_Cluster.reshape(data.shape[0], k)\n",
    "        # Mstep\n",
    "        newalpha, newcentroids, newcovariance = Mstep(data,prob_Data_belong_Cluster, k)\n",
    "        # logvalues\n",
    "        loglikelyvalues.append(loglikelihood(data, newcentroids, newcovariance, newalpha, k))\n",
    "        centroids = newcentroids\n",
    "        covariance= newcovariance\n",
    "        alpha = newalpha\n",
    "    plotloglikelihood(loglikelyvalues, k)\n",
    "    points_closest_gaussian = closest_centroid(data, centroids)\n",
    "    return alpha, centroids, covariance, points_closest_gaussian\n",
    "\n",
    "def covariance_calculate(data,centroids, classlabel):\n",
    "    covariance_matrix =[]\n",
    "    alpha = []\n",
    "    for i in range(len(centroids)):\n",
    "        mean = centroids[i].reshape(1, centroids.shape[1])\n",
    "        classdata = data[classlabel==i]\n",
    "        alpha.append(classdata.shape[0]/(data.shape[0]*1.0))\n",
    "        mean_matrix = np.repeat(mean, classdata.shape[0], axis=0)\n",
    "        mean_differenced_data = classdata - mean_matrix\n",
    "        covariance = (np.dot(mean_differenced_data.T, mean_differenced_data)) / classdata.shape[0]\n",
    "        covariance_matrix.append(covariance)\n",
    "    covariance_matrix = np.asarray(covariance_matrix)\n",
    "    alpha = np.asarray(alpha)\n",
    "    return covariance_matrix, alpha\n",
    "\n",
    "def Estep(data, centroid, covariance, alpha, k):\n",
    "    prob_Data_belong_to_Cluster = np.zeros((data.shape[0], k))\n",
    "    for i in range(data.shape[0]):\n",
    "        sum=0\n",
    "        for j in range(k):\n",
    "            y = multivariate_normal.pdf(data[i], mean=centroid[j], cov=covariance[j])\n",
    "            sum = sum + alpha[j] * y\n",
    "\n",
    "        for j in range(k):\n",
    "            prob = multivariate_normal.pdf(data[i], mean=centroid[j], cov=covariance[j])\n",
    "            weighted_prob = alpha[j] * prob\n",
    "            normalized_prob = weighted_prob / sum\n",
    "            prob_Data_belong_to_Cluster[i][j] = normalized_prob\n",
    "    return prob_Data_belong_to_Cluster\n",
    "\n",
    "def Mstep(data, prob_Data_belong_Cluster, k):\n",
    "    dim =2\n",
    "    newalpha = []\n",
    "    for i in range(k):\n",
    "        newalpha.append(np.mean(prob_Data_belong_Cluster[:, i]))\n",
    "    newalpha = np.asarray(newalpha)\n",
    "\n",
    "    newcentroids_music = []\n",
    "    for i in range(k):\n",
    "        sum = np.dot(data.T, prob_Data_belong_Cluster[:, i])\n",
    "        newcentroids_music.append(sum / np.sum(prob_Data_belong_Cluster[:, i]))\n",
    "    newcentroids_music = np.asarray(newcentroids_music)\n",
    "    newcentroids_music = newcentroids_music.reshape(k, dim)\n",
    "\n",
    "    newcovariance_music = []\n",
    "    for i in range(k):\n",
    "        denominator = np.sum(prob_Data_belong_Cluster[:, i])\n",
    "        sum = np.zeros((dim, dim), dtype=np.float16)\n",
    "        for j in range(data.shape[0]):\n",
    "            difference_sample_and_mean = data[j,:] - newcentroids_music[i, :]\n",
    "            difference_sample_and_mean = difference_sample_and_mean.reshape(1,dim)\n",
    "            covariance = np.dot(difference_sample_and_mean.T, difference_sample_and_mean)\n",
    "            covariance_scaled = covariance * prob_Data_belong_Cluster[j, i]\n",
    "            sum = sum + covariance_scaled\n",
    "            overall_covariance = sum / (denominator*1.0)\n",
    "        newcovariance_music.append(overall_covariance)\n",
    "    newcovariance_music = np.asarray(newcovariance_music)\n",
    "    #newcovariance_music = newcovariance_music + (10e-6)*np.identity(dim)\n",
    "    return newalpha, newcentroids_music, newcovariance_music\n",
    "\n",
    "from scipy.stats import multivariate_normal\n",
    "\n",
    "def loglikelihood(data,centroids, covariance, alpha,k):\n",
    "    y = np.zeros(k)\n",
    "    logsum = 0.0\n",
    "    for i in range(data.shape[0]):\n",
    "        for j in range(k):\n",
    "            y[j] = multivariate_normal.pdf(data[i], mean=centroids[j], cov=covariance[j])\n",
    "            y[j] = y[j] * alpha[j]\n",
    "        sumy = np.sum(y)\n",
    "        logsum = logsum + np.log10(sumy)\n",
    "    return logsum\n",
    "\n",
    "def plotloglikelihood(loglikelyvalues, k):  \n",
    "    plt.plot(loglikelyvalues)\n",
    "    plt.title(\"Plot of log likelihood with \"+str(k)+\" mixtures\")\n",
    "    plt.xlabel(\"EM Iteration\")\n",
    "    plt.ylabel(\"Log likelihood Values\")\n",
    "    plt.show()\n",
    "    \n",
    "alpha,centroid,covariance, points_closest_gaussian = GMM_model_built(data)"
   ]
  },
  {
   "cell_type": "code",
   "execution_count": 683,
   "metadata": {},
   "outputs": [
    {
     "name": "stdout",
     "output_type": "stream",
     "text": [
      "The mixing value between the gaussians : [ 0.49605604  0.50394396]\n",
      "The mean for gaussian 1 : [ 49.90100636  75.58593604]\n",
      "The mean for gaussian 2 : [ 60.45677061  55.32733967]\n",
      "\n",
      "The covariance for gaussian 1 : \n",
      "[[ 20.11826113   2.22644475]\n",
      " [  2.22644475  89.6045536 ]]\n",
      "\n",
      "The covariance for gaussian 2 : \n",
      "[[ 92.5735717   51.67281385]\n",
      " [ 51.67281385  58.35901883]]\n"
     ]
    }
   ],
   "source": [
    "# Parameters are given by:\n",
    "print \"The mixing value between the gaussians : \"+ str(alpha)\n",
    "print \"The mean for gaussian 1 : \"+str(centroid[0])\n",
    "print \"The mean for gaussian 2 : \"+str(centroid[1])\n",
    "print \"\\nThe covariance for gaussian 1 : \\n\"+str(covariance[0])\n",
    "print \"\\nThe covariance for gaussian 2 : \\n\"+str(covariance[1])"
   ]
  },
  {
   "cell_type": "code",
   "execution_count": 773,
   "metadata": {},
   "outputs": [
    {
     "data": {
      "image/png": "[encoded data removed]",
      "text/plain": [
       "<matplotlib.figure.Figure at 0x7fe1ecc971d0>"
      ]
     },
     "metadata": {},
     "output_type": "display_data"
    }
   ],
   "source": [
    "# Visualize the entire data by plotting them as points in a 2-D canvas.  \n",
    "from matplotlib.patches import Ellipse\n",
    "\n",
    "def draw_ellipse(position, covariance, ax=None, **kwargs):\n",
    "    ax = ax or plt.gca()\n",
    "    \n",
    "    # Convert covariance to principal axes\n",
    "    if covariance.shape == (2, 2):\n",
    "        U, s, Vt = np.linalg.svd(covariance)\n",
    "        angle = np.degrees(np.arctan2(U[1, 0], U[0, 0]))\n",
    "        width, height = 0.5 * np.sqrt(s)\n",
    "    else:\n",
    "        angle = 0\n",
    "        width, height = 2 * np.sqrt(covariance)\n",
    "    \n",
    "    # Draw the Ellipse\n",
    "    for nsig in range(2, 8):\n",
    "        ax.add_patch(Ellipse(position, nsig * width, nsig * height,\n",
    "                             angle,  fill = False, **kwargs))\n",
    "        \n",
    "\n",
    "plt.scatter(data[points_closest_gaussian == 0,0], data[points_closest_gaussian == 0,1], label = \"Gaussian 1\", s=10)\n",
    "plt.scatter(data[points_closest_gaussian == 1,0], data[points_closest_gaussian == 1,1], label = \"Gaussian 2\", s=10)\n",
    "\n",
    "# Show the estimated means and the standard deviations.\n",
    "\n",
    "plt.scatter(centroid[0,0], centroid[0,1], label=\"Mean for Gaussian 1\", marker='o', s=25)\n",
    "plt.scatter(centroid[1,0], centroid[1,1], label=\"Mean for Gaussian 2\", marker='o', s=25)\n",
    "draw_ellipse(centroid[0], covariance[0])\n",
    "draw_ellipse(centroid[1], covariance[1])\n",
    "\n",
    "plt.xlabel(\"dim 1\")\n",
    "plt.ylabel(\"dim 2\")\n",
    "plt.legend()\n",
    "\n",
    "plt.show()"
   ]
  },
  {
   "cell_type": "markdown",
   "metadata": {},
   "source": [
    "# Clustering\n",
    "\n",
    "For clustering we covered two algorithms\n",
    "\n",
    "1) K-means : An iterative method to get 'K' clusters, initializing them randomly\n",
    "\n",
    "2) Hirarchical : An iterative method to get a dendogram of clustering with various numbers of cluster centers.\n",
    "\n",
    "### K-means Clustering\n",
    "\n",
    "We initialize $K$ cluster centers $\\{ c_1,c_2 ,... c_k\\}$for $K$-clusters randomly. All the data points are assigned a cluster index $D_i \\in \\{ 1,2,...,k\\}$, based on the closest cluster center to each point.\n",
    "\n",
    "Now, for each cluster, the cluster centers are re-evaluated as the mean of all the points in the center.\n",
    "\n",
    "$$\n",
    "c_i = mean(\\{ X_j | D_j = i \\})\n",
    "$$\n",
    "This process continues till convergence.\n"
   ]
  },
  {
   "cell_type": "markdown",
   "metadata": {},
   "source": [
    "## Question 4\n",
    "\n",
    "The dataset contains 1000  color images.Convert them to grayscale images. We need to cluster them into various $n$ clusters based on the similarity of their histograms. For each image, find the histogram with bin size 25 (last bin of 30;i.e.225-255;giving you 10 bins). Now treating each of these bins as seperate dimensions, find:\n",
    "\n",
    "a) Cluster Centers for $n = 5$ clusters, with $L_2$ distance criteria for measuring distance between a pair of images.\n",
    "\n",
    "b) **Bonus**: Use Earth Movers Distance in the above problem."
   ]
  },
  {
   "cell_type": "code",
   "execution_count": 573,
   "metadata": {
    "collapsed": true
   },
   "outputs": [],
   "source": [
    "# For this problem we will be using the 1000 test images of CIFAR-10 dataset.\n",
    "## Load the data from the following link\n",
    "# https://www.cs.toronto.edu/~kriz/cifar.html\n",
    "def unpickle(file):\n",
    "    import cPickle\n",
    "    with open(file, 'rb') as fo:\n",
    "        dict = cPickle.load(fo)\n",
    "    return dict\n",
    "\n",
    "testdataset = unpickle(\"cifar-10-batches-py/test_batch\")\n",
    "data = testdataset['data'][0:1000]"
   ]
  },
  {
   "cell_type": "code",
   "execution_count": 622,
   "metadata": {},
   "outputs": [
    {
     "data": {
      "image/png": "[encoded data removed]",
      "text/plain": [
       "<matplotlib.figure.Figure at 0x7fe1ec645f50>"
      ]
     },
     "metadata": {},
     "output_type": "display_data"
    }
   ],
   "source": [
    "# Convert it to grayscale values\n",
    "from matplotlib import cm\n",
    "\n",
    "def rgb2gray(rgb):\n",
    "    return np.dot(rgb[...,:3], [0.299, 0.587, 0.114])\n",
    "\n",
    "imagedata = data.reshape(1000, 3, 32, 32).transpose(0,2,3,1).astype(\"uint8\")\n",
    "imagedata = np.array(imagedata)\n",
    "\n",
    "grayimages = rgb2gray(imagedata)\n",
    "grayimages = grayimages.astype(\"uint8\")\n",
    "plt.imshow(grayimages[1], cmap = plt.get_cmap('gray'))\n",
    "plt.title('One of the gray scale images :')\n",
    "plt.show()"
   ]
  },
  {
   "cell_type": "code",
   "execution_count": 618,
   "metadata": {
    "collapsed": true
   },
   "outputs": [],
   "source": [
    "# find the histograms and get a 10-dimensional representation of each images.\n",
    "histogram_data = []\n",
    "for i in range(len(grayimages)) :\n",
    "    hist, bin_edges = np.histogram(grayimages[i], bins=[0, 25, 50, 75, 100, 125, 150, 175, 200, 225, 255])\n",
    "    histogram_data.append(hist)\n",
    "\n",
    "histogram_data = np.array(histogram_data)"
   ]
  },
  {
   "cell_type": "code",
   "execution_count": 752,
   "metadata": {},
   "outputs": [
    {
     "name": "stdout",
     "output_type": "stream",
     "text": [
      "1st cluster mean\n",
      "[  14.99487179   40.47692308   73.98461538  127.96923077  250.60512821\n",
      "  280.38974359  143.38461538   53.2          25.25128205   13.74358974]\n",
      "\n",
      "2nd cluster mean\n",
      "[  17.88586957   62.82065217  184.76630435  295.02173913  221.8423913\n",
      "  104.68478261   59.5          37.69565217   23.61413043   16.16847826]\n",
      "\n",
      "3rd cluster mean\n",
      "[ 115.15498155  167.25830258  170.84870849  132.62361624  107.49077491\n",
      "   95.22140221   82.20295203   61.16236162   49.8597786    42.17712177]\n",
      "\n",
      "4th cluster mean\n",
      "[  22.05042017   41.43697479   75.12605042   82.26890756   82.40336134\n",
      "   77.32773109   74.16806723   76.71428571  161.21848739  331.28571429]\n",
      "\n",
      "5th cluster mean\n",
      "[  16.98701299   40.24242424   67.54978355   88.6969697   104.58874459\n",
      "  130.30735931  220.46753247  217.67532468  106.45887446   31.02597403]\n"
     ]
    }
   ],
   "source": [
    "# Use K-means to find  out the number of cluster centers.\n",
    "def initialize_centroids(points, k):\n",
    "    centroids = points.copy()\n",
    "    np.random.seed(1900)\n",
    "    np.random.shuffle(centroids)\n",
    "    return centroids[:k]\n",
    "\n",
    "def closest_centroid(points, centroids):\n",
    "    distances = np.sqrt(((points - centroids[:, np.newaxis])**2).sum(axis=2))\n",
    "    return np.argmin(distances, axis=0)\n",
    "\n",
    "def move_centroids(points, closest, centroids):\n",
    "    return np.array([points[closest==k].mean(axis=0) for k in range(centroids.shape[0])])\n",
    "\n",
    "def k_meansalgo(data, k):\n",
    "    centroids = initialize_centroids(data, k)\n",
    "    while(1):\n",
    "        closest = closest_centroid(data, centroids)\n",
    "        newcentroids = move_centroids(data, closest, centroids)\n",
    "        if(np.allclose(np.array(centroids), np.array(newcentroids))):\n",
    "            break\n",
    "        else :\n",
    "            centroids = newcentroids\n",
    "    return newcentroids, closest\n",
    "\n",
    "centroids, classlabel = k_meansalgo(histogram_data, 5)\n",
    "print \"1st cluster mean\"\n",
    "print centroids[0]\n",
    "print \"\\n2nd cluster mean\"\n",
    "print centroids[1]\n",
    "print \"\\n3rd cluster mean\"\n",
    "print centroids[2]\n",
    "print \"\\n4th cluster mean\"\n",
    "print centroids[3]\n",
    "print \"\\n5th cluster mean\"\n",
    "print centroids[4]"
   ]
  },
  {
   "cell_type": "code",
   "execution_count": 756,
   "metadata": {},
   "outputs": [
    {
     "data": {
      "image/png": "[encoded data removed]",
      "text/plain": [
       "<matplotlib.figure.Figure at 0x7fe1ed05c310>"
      ]
     },
     "metadata": {},
     "output_type": "display_data"
    },
    {
     "data": {
      "image/png": "[encoded data removed]",
      "text/plain": [
       "<matplotlib.figure.Figure at 0x7fe1ed05c610>"
      ]
     },
     "metadata": {},
     "output_type": "display_data"
    },
    {
     "data": {
      "image/png": "[encoded data removed]",
      "text/plain": [
       "<matplotlib.figure.Figure at 0x7fe1ec7ac510>"
      ]
     },
     "metadata": {},
     "output_type": "display_data"
    },
    {
     "data": {
      "image/png": "[encoded data removed]",
      "text/plain": [
       "<matplotlib.figure.Figure at 0x7fe1ecaba110>"
      ]
     },
     "metadata": {},
     "output_type": "display_data"
    },
    {
     "data": {
      "image/png": "[encoded data removed]",
      "text/plain": [
       "<matplotlib.figure.Figure at 0x7fe1ec442950>"
      ]
     },
     "metadata": {},
     "output_type": "display_data"
    }
   ],
   "source": [
    "# Visualize cluster means to see what they look like.\n",
    "plt.title(\"Histogram of cluster means\")\n",
    "plt.bar(centroids[0],[0, 25, 50, 75, 100, 125, 150, 175, 200, 225],width=8)\n",
    "plt.show()\n",
    "plt.bar(centroids[1],[0, 25, 50, 75, 100, 125, 150, 175, 200, 225],width=8)\n",
    "plt.show()\n",
    "plt.bar(centroids[2],[0, 25, 50, 75, 100, 125, 150, 175, 200, 225],width=8)\n",
    "plt.show()\n",
    "plt.bar(centroids[3],[0, 25, 50, 75, 100, 125, 150, 175, 200, 225],width=8) \n",
    "plt.show()\n",
    "plt.bar(centroids[4],[0, 25, 50, 75, 100, 125, 150, 175, 200, 225],width=8) \n",
    "plt.show()"
   ]
  },
  {
   "cell_type": "markdown",
   "metadata": {},
   "source": [
    "# References\n",
    "\n",
    "Useful references will be added shortly.\n",
    "\n",
    "1) Linear Regression\n",
    "  * [Wikipedia](https://en.wikipedia.org/wiki/Linear_regression)\n",
    "\n",
    "2) Logistic Regression\n",
    "  * [Wikipedia](https://en.wikipedia.org/wiki/Logistic_regression)\n",
    "  * [Win Vector Blog](http://www.win-vector.com/blog/2011/09/the-simpler-derivation-of-logistic-regression/)\n",
    "  * [Renselaer Course Slides](http://www.cs.rpi.edu/~magdon/courses/LFD-Slides/SlidesLect09.pdf)\n",
    "  \n",
    "3) EM\n",
    "  * [Cambridge Tutorial](http://www.cs.huji.ac.il/~yweiss/emTutorial.pdf)\n",
    "  * [Chapter 9 - Pattern Recognition and Machine Learning by Christopher M. Bishop](http://www.rmki.kfki.hu/~banmi/elte/bishop_em.pdf)\n",
    "  * [Wikipedia](https://en.wikipedia.org/wiki/Expectation%E2%80%93maximization_algorithm)\n",
    "  \n",
    "4) K-means\n",
    "  * [Wikipedia](https://en.wikipedia.org/wiki/K-means_clustering)"
   ]
  }
 ],
 "metadata": {
  "kernelspec": {
   "display_name": "Python 2",
   "language": "python",
   "name": "python2"
  },
  "language_info": {
   "codemirror_mode": {
    "name": "ipython",
    "version": 2
   },
   "file_extension": ".py",
   "mimetype": "text/x-python",
   "name": "python",
   "nbconvert_exporter": "python",
   "pygments_lexer": "ipython2",
   "version": "2.7.13"
  }
 },
 "nbformat": 4,
 "nbformat_minor": 2
}
